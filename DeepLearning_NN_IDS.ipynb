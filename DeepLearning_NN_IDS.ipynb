{
 "cells": [
  {
   "cell_type": "markdown",
   "metadata": {
    "colab_type": "text",
    "id": "view-in-github"
   },
   "source": [
    "<a href=\"https://colab.research.google.com/github/LNOI/DeepLearning_IDS_ANN/blob/main/DeepLearning_NN_IDS.ipynb\" target=\"_parent\"><img src=\"https://colab.research.google.com/assets/colab-badge.svg\" alt=\"Open In Colab\"/></a>"
   ]
  },
  {
   "cell_type": "code",
   "execution_count": 35,
   "metadata": {
    "colab": {
     "base_uri": "https://localhost:8080/"
    },
    "id": "Hn3NSvZmM8hZ",
    "outputId": "3b3b593c-0c19-4a57-9061-1318533b7812"
   },
   "outputs": [
    {
     "name": "stdout",
     "output_type": "stream",
     "text": [
      "Looking in indexes: https://pypi.org/simple, https://us-python.pkg.dev/colab-wheels/public/simple/\n",
      "Requirement already satisfied: seaborn in /usr/local/lib/python3.8/dist-packages (0.11.2)\n",
      "Requirement already satisfied: numpy>=1.15 in /usr/local/lib/python3.8/dist-packages (from seaborn) (1.21.6)\n",
      "Requirement already satisfied: scipy>=1.0 in /usr/local/lib/python3.8/dist-packages (from seaborn) (1.7.3)\n",
      "Requirement already satisfied: pandas>=0.23 in /usr/local/lib/python3.8/dist-packages (from seaborn) (1.3.5)\n",
      "Requirement already satisfied: matplotlib>=2.2 in /usr/local/lib/python3.8/dist-packages (from seaborn) (3.2.2)\n",
      "Requirement already satisfied: python-dateutil>=2.1 in /usr/local/lib/python3.8/dist-packages (from matplotlib>=2.2->seaborn) (2.8.2)\n",
      "Requirement already satisfied: kiwisolver>=1.0.1 in /usr/local/lib/python3.8/dist-packages (from matplotlib>=2.2->seaborn) (1.4.4)\n",
      "Requirement already satisfied: cycler>=0.10 in /usr/local/lib/python3.8/dist-packages (from matplotlib>=2.2->seaborn) (0.11.0)\n",
      "Requirement already satisfied: pyparsing!=2.0.4,!=2.1.2,!=2.1.6,>=2.0.1 in /usr/local/lib/python3.8/dist-packages (from matplotlib>=2.2->seaborn) (3.0.9)\n",
      "Requirement already satisfied: pytz>=2017.3 in /usr/local/lib/python3.8/dist-packages (from pandas>=0.23->seaborn) (2022.6)\n",
      "Requirement already satisfied: six>=1.5 in /usr/local/lib/python3.8/dist-packages (from python-dateutil>=2.1->matplotlib>=2.2->seaborn) (1.15.0)\n",
      "Looking in indexes: https://pypi.org/simple, https://us-python.pkg.dev/colab-wheels/public/simple/\n",
      "Requirement already satisfied: numpy in /usr/local/lib/python3.8/dist-packages (1.21.6)\n",
      "Looking in indexes: https://pypi.org/simple, https://us-python.pkg.dev/colab-wheels/public/simple/\n",
      "Requirement already satisfied: tensorflow in /usr/local/lib/python3.8/dist-packages (2.9.2)\n",
      "Requirement already satisfied: typing-extensions>=3.6.6 in /usr/local/lib/python3.8/dist-packages (from tensorflow) (4.1.1)\n",
      "Requirement already satisfied: termcolor>=1.1.0 in /usr/local/lib/python3.8/dist-packages (from tensorflow) (2.1.1)\n",
      "Requirement already satisfied: gast<=0.4.0,>=0.2.1 in /usr/local/lib/python3.8/dist-packages (from tensorflow) (0.4.0)\n",
      "Requirement already satisfied: google-pasta>=0.1.1 in /usr/local/lib/python3.8/dist-packages (from tensorflow) (0.2.0)\n",
      "Requirement already satisfied: flatbuffers<2,>=1.12 in /usr/local/lib/python3.8/dist-packages (from tensorflow) (1.12)\n",
      "Requirement already satisfied: tensorflow-estimator<2.10.0,>=2.9.0rc0 in /usr/local/lib/python3.8/dist-packages (from tensorflow) (2.9.0)\n",
      "Requirement already satisfied: packaging in /usr/local/lib/python3.8/dist-packages (from tensorflow) (21.3)\n",
      "Requirement already satisfied: setuptools in /usr/local/lib/python3.8/dist-packages (from tensorflow) (57.4.0)\n",
      "Requirement already satisfied: six>=1.12.0 in /usr/local/lib/python3.8/dist-packages (from tensorflow) (1.15.0)\n",
      "Requirement already satisfied: tensorboard<2.10,>=2.9 in /usr/local/lib/python3.8/dist-packages (from tensorflow) (2.9.1)\n",
      "Requirement already satisfied: wrapt>=1.11.0 in /usr/local/lib/python3.8/dist-packages (from tensorflow) (1.14.1)\n",
      "Requirement already satisfied: keras-preprocessing>=1.1.1 in /usr/local/lib/python3.8/dist-packages (from tensorflow) (1.1.2)\n",
      "Requirement already satisfied: protobuf<3.20,>=3.9.2 in /usr/local/lib/python3.8/dist-packages (from tensorflow) (3.19.6)\n",
      "Requirement already satisfied: h5py>=2.9.0 in /usr/local/lib/python3.8/dist-packages (from tensorflow) (3.1.0)\n",
      "Requirement already satisfied: opt-einsum>=2.3.2 in /usr/local/lib/python3.8/dist-packages (from tensorflow) (3.3.0)\n",
      "Requirement already satisfied: libclang>=13.0.0 in /usr/local/lib/python3.8/dist-packages (from tensorflow) (14.0.6)\n",
      "Requirement already satisfied: grpcio<2.0,>=1.24.3 in /usr/local/lib/python3.8/dist-packages (from tensorflow) (1.50.0)\n",
      "Requirement already satisfied: keras<2.10.0,>=2.9.0rc0 in /usr/local/lib/python3.8/dist-packages (from tensorflow) (2.9.0)\n",
      "Requirement already satisfied: astunparse>=1.6.0 in /usr/local/lib/python3.8/dist-packages (from tensorflow) (1.6.3)\n",
      "Requirement already satisfied: absl-py>=1.0.0 in /usr/local/lib/python3.8/dist-packages (from tensorflow) (1.3.0)\n",
      "Requirement already satisfied: numpy>=1.20 in /usr/local/lib/python3.8/dist-packages (from tensorflow) (1.21.6)\n",
      "Requirement already satisfied: tensorflow-io-gcs-filesystem>=0.23.1 in /usr/local/lib/python3.8/dist-packages (from tensorflow) (0.28.0)\n",
      "Requirement already satisfied: wheel<1.0,>=0.23.0 in /usr/local/lib/python3.8/dist-packages (from astunparse>=1.6.0->tensorflow) (0.38.4)\n",
      "Requirement already satisfied: markdown>=2.6.8 in /usr/local/lib/python3.8/dist-packages (from tensorboard<2.10,>=2.9->tensorflow) (3.4.1)\n",
      "Requirement already satisfied: google-auth<3,>=1.6.3 in /usr/local/lib/python3.8/dist-packages (from tensorboard<2.10,>=2.9->tensorflow) (2.14.1)\n",
      "Requirement already satisfied: werkzeug>=1.0.1 in /usr/local/lib/python3.8/dist-packages (from tensorboard<2.10,>=2.9->tensorflow) (1.0.1)\n",
      "Requirement already satisfied: tensorboard-data-server<0.7.0,>=0.6.0 in /usr/local/lib/python3.8/dist-packages (from tensorboard<2.10,>=2.9->tensorflow) (0.6.1)\n",
      "Requirement already satisfied: tensorboard-plugin-wit>=1.6.0 in /usr/local/lib/python3.8/dist-packages (from tensorboard<2.10,>=2.9->tensorflow) (1.8.1)\n",
      "Requirement already satisfied: google-auth-oauthlib<0.5,>=0.4.1 in /usr/local/lib/python3.8/dist-packages (from tensorboard<2.10,>=2.9->tensorflow) (0.4.6)\n",
      "Requirement already satisfied: requests<3,>=2.21.0 in /usr/local/lib/python3.8/dist-packages (from tensorboard<2.10,>=2.9->tensorflow) (2.23.0)\n",
      "Requirement already satisfied: cachetools<6.0,>=2.0.0 in /usr/local/lib/python3.8/dist-packages (from google-auth<3,>=1.6.3->tensorboard<2.10,>=2.9->tensorflow) (5.2.0)\n",
      "Requirement already satisfied: pyasn1-modules>=0.2.1 in /usr/local/lib/python3.8/dist-packages (from google-auth<3,>=1.6.3->tensorboard<2.10,>=2.9->tensorflow) (0.2.8)\n",
      "Requirement already satisfied: rsa<5,>=3.1.4 in /usr/local/lib/python3.8/dist-packages (from google-auth<3,>=1.6.3->tensorboard<2.10,>=2.9->tensorflow) (4.9)\n",
      "Requirement already satisfied: requests-oauthlib>=0.7.0 in /usr/local/lib/python3.8/dist-packages (from google-auth-oauthlib<0.5,>=0.4.1->tensorboard<2.10,>=2.9->tensorflow) (1.3.1)\n",
      "Requirement already satisfied: importlib-metadata>=4.4 in /usr/local/lib/python3.8/dist-packages (from markdown>=2.6.8->tensorboard<2.10,>=2.9->tensorflow) (4.13.0)\n",
      "Requirement already satisfied: zipp>=0.5 in /usr/local/lib/python3.8/dist-packages (from importlib-metadata>=4.4->markdown>=2.6.8->tensorboard<2.10,>=2.9->tensorflow) (3.10.0)\n",
      "Requirement already satisfied: pyasn1<0.5.0,>=0.4.6 in /usr/local/lib/python3.8/dist-packages (from pyasn1-modules>=0.2.1->google-auth<3,>=1.6.3->tensorboard<2.10,>=2.9->tensorflow) (0.4.8)\n",
      "Requirement already satisfied: certifi>=2017.4.17 in /usr/local/lib/python3.8/dist-packages (from requests<3,>=2.21.0->tensorboard<2.10,>=2.9->tensorflow) (2022.9.24)\n",
      "Requirement already satisfied: idna<3,>=2.5 in /usr/local/lib/python3.8/dist-packages (from requests<3,>=2.21.0->tensorboard<2.10,>=2.9->tensorflow) (2.10)\n",
      "Requirement already satisfied: chardet<4,>=3.0.2 in /usr/local/lib/python3.8/dist-packages (from requests<3,>=2.21.0->tensorboard<2.10,>=2.9->tensorflow) (3.0.4)\n",
      "Requirement already satisfied: urllib3!=1.25.0,!=1.25.1,<1.26,>=1.21.1 in /usr/local/lib/python3.8/dist-packages (from requests<3,>=2.21.0->tensorboard<2.10,>=2.9->tensorflow) (1.24.3)\n",
      "Requirement already satisfied: oauthlib>=3.0.0 in /usr/local/lib/python3.8/dist-packages (from requests-oauthlib>=0.7.0->google-auth-oauthlib<0.5,>=0.4.1->tensorboard<2.10,>=2.9->tensorflow) (3.2.2)\n",
      "Requirement already satisfied: pyparsing!=3.0.5,>=2.0.2 in /usr/local/lib/python3.8/dist-packages (from packaging->tensorflow) (3.0.9)\n",
      "Looking in indexes: https://pypi.org/simple, https://us-python.pkg.dev/colab-wheels/public/simple/\n",
      "Requirement already satisfied: keras in /usr/local/lib/python3.8/dist-packages (2.9.0)\n",
      "Looking in indexes: https://pypi.org/simple, https://us-python.pkg.dev/colab-wheels/public/simple/\n",
      "Requirement already satisfied: wget in /usr/local/lib/python3.8/dist-packages (3.2)\n"
     ]
    }
   ],
   "source": [
    "!pip install  seaborn\n",
    "!pip install numpy\n",
    "!pip install tensorflow\n",
    "!pip install keras\n",
    "!pip install wget\n",
    "import os\n",
    "import pandas as pd\n",
    "import numpy as np\n",
    "import matplotlib.pyplot as plt\n",
    "import seaborn as sns\n",
    "import time\n",
    "import wget\n",
    "from sklearn.model_selection import train_test_split\n",
    "from sklearn.preprocessing import MinMaxScaler\n",
    "from sklearn.metrics import accuracy_score\n",
    "import numpy as np\n",
    "import matplotlib.pyplot as plt\n",
    "import tensorflow as tf\n",
    "from tensorflow import keras\n"
   ]
  },
  {
   "cell_type": "code",
   "execution_count": 37,
   "metadata": {
    "colab": {
     "base_uri": "https://localhost:8080/"
    },
    "id": "V2QRhB9-NTek",
    "outputId": "d46d97b4-ba5f-46b2-f838-7b38fa649fd1"
   },
   "outputs": [
    {
     "name": "stdout",
     "output_type": "stream",
     "text": [
      "42\n"
     ]
    }
   ],
   "source": [
    "cols=\"\"\"duration,\n",
    "protocol_type,\n",
    "service,\n",
    "flag,\n",
    "src_bytes,\n",
    "dst_bytes,\n",
    "land,\n",
    "wrong_fragment,\n",
    "urgent,\n",
    "hot,\n",
    "num_failed_logins,\n",
    "logged_in,\n",
    "num_compromised,\n",
    "root_shell,\n",
    "su_attempted,\n",
    "num_root,\n",
    "num_file_creations,\n",
    "num_shells,\n",
    "num_access_files,\n",
    "num_outbound_cmds,\n",
    "is_host_login,\n",
    "is_guest_login,\n",
    "count,\n",
    "srv_count,\n",
    "serror_rate,\n",
    "srv_serror_rate,\n",
    "rerror_rate,\n",
    "srv_rerror_rate,\n",
    "same_srv_rate,\n",
    "diff_srv_rate,\n",
    "srv_diff_host_rate,\n",
    "dst_host_count,\n",
    "dst_host_srv_count,\n",
    "dst_host_same_srv_rate,\n",
    "dst_host_diff_srv_rate,\n",
    "dst_host_same_src_port_rate,\n",
    "dst_host_srv_diff_host_rate,\n",
    "dst_host_serror_rate,\n",
    "dst_host_srv_serror_rate,\n",
    "dst_host_rerror_rate,\n",
    "dst_host_srv_rerror_rate\"\"\"\n",
    "\n",
    "columns=[]\n",
    "for c in cols.split(','):\n",
    "    if(c.strip()):\n",
    "       columns.append(c.strip())\n",
    "\n",
    "columns.append('target')\n",
    "print(len(columns))\n"
   ]
  },
  {
   "cell_type": "code",
   "execution_count": 38,
   "metadata": {
    "id": "vrtUUQ-gNZnh"
   },
   "outputs": [],
   "source": [
    "attacks_types = {\n",
    "    'normal': 'normal',\n",
    "'back': 'dos',\n",
    "'buffer_overflow': 'u2r',\n",
    "'ftp_write': 'r2l',\n",
    "'guess_passwd': 'r2l',\n",
    "'imap': 'r2l',\n",
    "'ipsweep': 'probe',\n",
    "'land': 'dos',\n",
    "'loadmodule': 'u2r',\n",
    "'multihop': 'r2l',\n",
    "'neptune': 'dos',\n",
    "'nmap': 'probe',\n",
    "'perl': 'u2r',\n",
    "'phf': 'r2l',\n",
    "'pod': 'dos',\n",
    "'portsweep': 'probe',\n",
    "'rootkit': 'u2r',\n",
    "'satan': 'probe',\n",
    "'smurf': 'dos',\n",
    "'spy': 'r2l',\n",
    "'teardrop': 'dos',\n",
    "'warezclient': 'r2l',\n",
    "'warezmaster': 'r2l',\n",
    "}"
   ]
  },
  {
   "cell_type": "code",
   "execution_count": 92,
   "metadata": {
    "colab": {
     "base_uri": "https://localhost:8080/",
     "height": 317
    },
    "id": "L6NzWgnhNb5l",
    "outputId": "e16fc0bb-c322-4367-b851-e12396c5aa33"
   },
   "outputs": [
    {
     "data": {
      "text/html": [
       "\n",
       "  <div id=\"df-05a38921-387f-47c9-88ab-f9578eb30e7f\">\n",
       "    <div class=\"colab-df-container\">\n",
       "      <div>\n",
       "<style scoped>\n",
       "    .dataframe tbody tr th:only-of-type {\n",
       "        vertical-align: middle;\n",
       "    }\n",
       "\n",
       "    .dataframe tbody tr th {\n",
       "        vertical-align: top;\n",
       "    }\n",
       "\n",
       "    .dataframe thead th {\n",
       "        text-align: right;\n",
       "    }\n",
       "</style>\n",
       "<table border=\"1\" class=\"dataframe\">\n",
       "  <thead>\n",
       "    <tr style=\"text-align: right;\">\n",
       "      <th></th>\n",
       "      <th>duration</th>\n",
       "      <th>protocol_type</th>\n",
       "      <th>service</th>\n",
       "      <th>flag</th>\n",
       "      <th>src_bytes</th>\n",
       "      <th>dst_bytes</th>\n",
       "      <th>land</th>\n",
       "      <th>wrong_fragment</th>\n",
       "      <th>urgent</th>\n",
       "      <th>hot</th>\n",
       "      <th>...</th>\n",
       "      <th>dst_host_same_srv_rate</th>\n",
       "      <th>dst_host_diff_srv_rate</th>\n",
       "      <th>dst_host_same_src_port_rate</th>\n",
       "      <th>dst_host_srv_diff_host_rate</th>\n",
       "      <th>dst_host_serror_rate</th>\n",
       "      <th>dst_host_srv_serror_rate</th>\n",
       "      <th>dst_host_rerror_rate</th>\n",
       "      <th>dst_host_srv_rerror_rate</th>\n",
       "      <th>target</th>\n",
       "      <th>Attack Type</th>\n",
       "    </tr>\n",
       "  </thead>\n",
       "  <tbody>\n",
       "    <tr>\n",
       "      <th>0</th>\n",
       "      <td>0</td>\n",
       "      <td>tcp</td>\n",
       "      <td>http</td>\n",
       "      <td>SF</td>\n",
       "      <td>181</td>\n",
       "      <td>5450</td>\n",
       "      <td>0</td>\n",
       "      <td>0</td>\n",
       "      <td>0</td>\n",
       "      <td>0</td>\n",
       "      <td>...</td>\n",
       "      <td>1.0</td>\n",
       "      <td>0.0</td>\n",
       "      <td>0.11</td>\n",
       "      <td>0.0</td>\n",
       "      <td>0.0</td>\n",
       "      <td>0.0</td>\n",
       "      <td>0.0</td>\n",
       "      <td>0.0</td>\n",
       "      <td>normal.</td>\n",
       "      <td>normal</td>\n",
       "    </tr>\n",
       "    <tr>\n",
       "      <th>1</th>\n",
       "      <td>0</td>\n",
       "      <td>tcp</td>\n",
       "      <td>http</td>\n",
       "      <td>SF</td>\n",
       "      <td>239</td>\n",
       "      <td>486</td>\n",
       "      <td>0</td>\n",
       "      <td>0</td>\n",
       "      <td>0</td>\n",
       "      <td>0</td>\n",
       "      <td>...</td>\n",
       "      <td>1.0</td>\n",
       "      <td>0.0</td>\n",
       "      <td>0.05</td>\n",
       "      <td>0.0</td>\n",
       "      <td>0.0</td>\n",
       "      <td>0.0</td>\n",
       "      <td>0.0</td>\n",
       "      <td>0.0</td>\n",
       "      <td>normal.</td>\n",
       "      <td>normal</td>\n",
       "    </tr>\n",
       "    <tr>\n",
       "      <th>2</th>\n",
       "      <td>0</td>\n",
       "      <td>tcp</td>\n",
       "      <td>http</td>\n",
       "      <td>SF</td>\n",
       "      <td>235</td>\n",
       "      <td>1337</td>\n",
       "      <td>0</td>\n",
       "      <td>0</td>\n",
       "      <td>0</td>\n",
       "      <td>0</td>\n",
       "      <td>...</td>\n",
       "      <td>1.0</td>\n",
       "      <td>0.0</td>\n",
       "      <td>0.03</td>\n",
       "      <td>0.0</td>\n",
       "      <td>0.0</td>\n",
       "      <td>0.0</td>\n",
       "      <td>0.0</td>\n",
       "      <td>0.0</td>\n",
       "      <td>normal.</td>\n",
       "      <td>normal</td>\n",
       "    </tr>\n",
       "    <tr>\n",
       "      <th>3</th>\n",
       "      <td>0</td>\n",
       "      <td>tcp</td>\n",
       "      <td>http</td>\n",
       "      <td>SF</td>\n",
       "      <td>219</td>\n",
       "      <td>1337</td>\n",
       "      <td>0</td>\n",
       "      <td>0</td>\n",
       "      <td>0</td>\n",
       "      <td>0</td>\n",
       "      <td>...</td>\n",
       "      <td>1.0</td>\n",
       "      <td>0.0</td>\n",
       "      <td>0.03</td>\n",
       "      <td>0.0</td>\n",
       "      <td>0.0</td>\n",
       "      <td>0.0</td>\n",
       "      <td>0.0</td>\n",
       "      <td>0.0</td>\n",
       "      <td>normal.</td>\n",
       "      <td>normal</td>\n",
       "    </tr>\n",
       "    <tr>\n",
       "      <th>4</th>\n",
       "      <td>0</td>\n",
       "      <td>tcp</td>\n",
       "      <td>http</td>\n",
       "      <td>SF</td>\n",
       "      <td>217</td>\n",
       "      <td>2032</td>\n",
       "      <td>0</td>\n",
       "      <td>0</td>\n",
       "      <td>0</td>\n",
       "      <td>0</td>\n",
       "      <td>...</td>\n",
       "      <td>1.0</td>\n",
       "      <td>0.0</td>\n",
       "      <td>0.02</td>\n",
       "      <td>0.0</td>\n",
       "      <td>0.0</td>\n",
       "      <td>0.0</td>\n",
       "      <td>0.0</td>\n",
       "      <td>0.0</td>\n",
       "      <td>normal.</td>\n",
       "      <td>normal</td>\n",
       "    </tr>\n",
       "  </tbody>\n",
       "</table>\n",
       "<p>5 rows × 43 columns</p>\n",
       "</div>\n",
       "      <button class=\"colab-df-convert\" onclick=\"convertToInteractive('df-05a38921-387f-47c9-88ab-f9578eb30e7f')\"\n",
       "              title=\"Convert this dataframe to an interactive table.\"\n",
       "              style=\"display:none;\">\n",
       "        \n",
       "  <svg xmlns=\"http://www.w3.org/2000/svg\" height=\"24px\"viewBox=\"0 0 24 24\"\n",
       "       width=\"24px\">\n",
       "    <path d=\"M0 0h24v24H0V0z\" fill=\"none\"/>\n",
       "    <path d=\"M18.56 5.44l.94 2.06.94-2.06 2.06-.94-2.06-.94-.94-2.06-.94 2.06-2.06.94zm-11 1L8.5 8.5l.94-2.06 2.06-.94-2.06-.94L8.5 2.5l-.94 2.06-2.06.94zm10 10l.94 2.06.94-2.06 2.06-.94-2.06-.94-.94-2.06-.94 2.06-2.06.94z\"/><path d=\"M17.41 7.96l-1.37-1.37c-.4-.4-.92-.59-1.43-.59-.52 0-1.04.2-1.43.59L10.3 9.45l-7.72 7.72c-.78.78-.78 2.05 0 2.83L4 21.41c.39.39.9.59 1.41.59.51 0 1.02-.2 1.41-.59l7.78-7.78 2.81-2.81c.8-.78.8-2.07 0-2.86zM5.41 20L4 18.59l7.72-7.72 1.47 1.35L5.41 20z\"/>\n",
       "  </svg>\n",
       "      </button>\n",
       "      \n",
       "  <style>\n",
       "    .colab-df-container {\n",
       "      display:flex;\n",
       "      flex-wrap:wrap;\n",
       "      gap: 12px;\n",
       "    }\n",
       "\n",
       "    .colab-df-convert {\n",
       "      background-color: #E8F0FE;\n",
       "      border: none;\n",
       "      border-radius: 50%;\n",
       "      cursor: pointer;\n",
       "      display: none;\n",
       "      fill: #1967D2;\n",
       "      height: 32px;\n",
       "      padding: 0 0 0 0;\n",
       "      width: 32px;\n",
       "    }\n",
       "\n",
       "    .colab-df-convert:hover {\n",
       "      background-color: #E2EBFA;\n",
       "      box-shadow: 0px 1px 2px rgba(60, 64, 67, 0.3), 0px 1px 3px 1px rgba(60, 64, 67, 0.15);\n",
       "      fill: #174EA6;\n",
       "    }\n",
       "\n",
       "    [theme=dark] .colab-df-convert {\n",
       "      background-color: #3B4455;\n",
       "      fill: #D2E3FC;\n",
       "    }\n",
       "\n",
       "    [theme=dark] .colab-df-convert:hover {\n",
       "      background-color: #434B5C;\n",
       "      box-shadow: 0px 1px 3px 1px rgba(0, 0, 0, 0.15);\n",
       "      filter: drop-shadow(0px 1px 2px rgba(0, 0, 0, 0.3));\n",
       "      fill: #FFFFFF;\n",
       "    }\n",
       "  </style>\n",
       "\n",
       "      <script>\n",
       "        const buttonEl =\n",
       "          document.querySelector('#df-05a38921-387f-47c9-88ab-f9578eb30e7f button.colab-df-convert');\n",
       "        buttonEl.style.display =\n",
       "          google.colab.kernel.accessAllowed ? 'block' : 'none';\n",
       "\n",
       "        async function convertToInteractive(key) {\n",
       "          const element = document.querySelector('#df-05a38921-387f-47c9-88ab-f9578eb30e7f');\n",
       "          const dataTable =\n",
       "            await google.colab.kernel.invokeFunction('convertToInteractive',\n",
       "                                                     [key], {});\n",
       "          if (!dataTable) return;\n",
       "\n",
       "          const docLinkHtml = 'Like what you see? Visit the ' +\n",
       "            '<a target=\"_blank\" href=https://colab.research.google.com/notebooks/data_table.ipynb>data table notebook</a>'\n",
       "            + ' to learn more about interactive tables.';\n",
       "          element.innerHTML = '';\n",
       "          dataTable['output_type'] = 'display_data';\n",
       "          await google.colab.output.renderOutput(dataTable, element);\n",
       "          const docLink = document.createElement('div');\n",
       "          docLink.innerHTML = docLinkHtml;\n",
       "          element.appendChild(docLink);\n",
       "        }\n",
       "      </script>\n",
       "    </div>\n",
       "  </div>\n",
       "  "
      ],
      "text/plain": [
       "   duration protocol_type service flag  src_bytes  dst_bytes  land  \\\n",
       "0         0           tcp    http   SF        181       5450     0   \n",
       "1         0           tcp    http   SF        239        486     0   \n",
       "2         0           tcp    http   SF        235       1337     0   \n",
       "3         0           tcp    http   SF        219       1337     0   \n",
       "4         0           tcp    http   SF        217       2032     0   \n",
       "\n",
       "   wrong_fragment  urgent  hot  ...  dst_host_same_srv_rate  \\\n",
       "0               0       0    0  ...                     1.0   \n",
       "1               0       0    0  ...                     1.0   \n",
       "2               0       0    0  ...                     1.0   \n",
       "3               0       0    0  ...                     1.0   \n",
       "4               0       0    0  ...                     1.0   \n",
       "\n",
       "   dst_host_diff_srv_rate  dst_host_same_src_port_rate  \\\n",
       "0                     0.0                         0.11   \n",
       "1                     0.0                         0.05   \n",
       "2                     0.0                         0.03   \n",
       "3                     0.0                         0.03   \n",
       "4                     0.0                         0.02   \n",
       "\n",
       "   dst_host_srv_diff_host_rate  dst_host_serror_rate  \\\n",
       "0                          0.0                   0.0   \n",
       "1                          0.0                   0.0   \n",
       "2                          0.0                   0.0   \n",
       "3                          0.0                   0.0   \n",
       "4                          0.0                   0.0   \n",
       "\n",
       "   dst_host_srv_serror_rate  dst_host_rerror_rate  dst_host_srv_rerror_rate  \\\n",
       "0                       0.0                   0.0                       0.0   \n",
       "1                       0.0                   0.0                       0.0   \n",
       "2                       0.0                   0.0                       0.0   \n",
       "3                       0.0                   0.0                       0.0   \n",
       "4                       0.0                   0.0                       0.0   \n",
       "\n",
       "    target  Attack Type  \n",
       "0  normal.       normal  \n",
       "1  normal.       normal  \n",
       "2  normal.       normal  \n",
       "3  normal.       normal  \n",
       "4  normal.       normal  \n",
       "\n",
       "[5 rows x 43 columns]"
      ]
     },
     "execution_count": 92,
     "metadata": {},
     "output_type": "execute_result"
    }
   ],
   "source": [
    "# path = \"http://kdd.ics.uci.edu/databases/kddcup99/kddcup.data_10_percent.gz\"\n",
    "# wget.download(path)\n",
    "df = pd.read_csv('kddcup.data_10_percent.gz',names=columns)\n",
    "\n",
    "#Adding Attack Type column\n",
    "df['Attack Type'] = df.target.apply(lambda r:attacks_types[r[:-1]])\n",
    "\n",
    "df.head()"
   ]
  },
  {
   "cell_type": "code",
   "execution_count": 40,
   "metadata": {
    "colab": {
     "base_uri": "https://localhost:8080/"
    },
    "id": "CDXskkRqN6f0",
    "outputId": "b7a52a4e-097d-440c-8daa-5605428f622d"
   },
   "outputs": [
    {
     "data": {
      "text/plain": [
       "(494021, 43)"
      ]
     },
     "execution_count": 40,
     "metadata": {},
     "output_type": "execute_result"
    }
   ],
   "source": [
    "df.shape"
   ]
  },
  {
   "cell_type": "code",
   "execution_count": 41,
   "metadata": {
    "colab": {
     "base_uri": "https://localhost:8080/"
    },
    "id": "ykTBP25FN7Hy",
    "outputId": "fed6a1a7-a325-41eb-d137-f70adc6dc775"
   },
   "outputs": [
    {
     "data": {
      "text/plain": [
       "smurf.              280790\n",
       "neptune.            107201\n",
       "normal.              97278\n",
       "back.                 2203\n",
       "satan.                1589\n",
       "ipsweep.              1247\n",
       "portsweep.            1040\n",
       "warezclient.          1020\n",
       "teardrop.              979\n",
       "pod.                   264\n",
       "nmap.                  231\n",
       "guess_passwd.           53\n",
       "buffer_overflow.        30\n",
       "land.                   21\n",
       "warezmaster.            20\n",
       "imap.                   12\n",
       "rootkit.                10\n",
       "loadmodule.              9\n",
       "ftp_write.               8\n",
       "multihop.                7\n",
       "phf.                     4\n",
       "perl.                    3\n",
       "spy.                     2\n",
       "Name: target, dtype: int64"
      ]
     },
     "execution_count": 41,
     "metadata": {},
     "output_type": "execute_result"
    }
   ],
   "source": [
    "df['target'].value_counts()"
   ]
  },
  {
   "cell_type": "code",
   "execution_count": null,
   "metadata": {
    "colab": {
     "base_uri": "https://localhost:8080/"
    },
    "id": "1ubOs6fxN95x",
    "outputId": "d77bb7da-7462-4a99-9993-468ff65f5661"
   },
   "outputs": [
    {
     "data": {
      "text/plain": [
       "dos       391458\n",
       "normal     97278\n",
       "probe       4107\n",
       "r2l         1126\n",
       "u2r           52\n",
       "Name: Attack Type, dtype: int64"
      ]
     },
     "execution_count": 10,
     "metadata": {},
     "output_type": "execute_result"
    }
   ],
   "source": [
    "df['Attack Type'].value_counts()"
   ]
  },
  {
   "cell_type": "code",
   "execution_count": null,
   "metadata": {
    "colab": {
     "base_uri": "https://localhost:8080/"
    },
    "id": "x7idFyKBOBAs",
    "outputId": "49592c29-71f2-42a8-c527-7b54ae34f2f9"
   },
   "outputs": [
    {
     "data": {
      "text/plain": [
       "duration                         int64\n",
       "protocol_type                   object\n",
       "service                         object\n",
       "flag                            object\n",
       "src_bytes                        int64\n",
       "dst_bytes                        int64\n",
       "land                             int64\n",
       "wrong_fragment                   int64\n",
       "urgent                           int64\n",
       "hot                              int64\n",
       "num_failed_logins                int64\n",
       "logged_in                        int64\n",
       "num_compromised                  int64\n",
       "root_shell                       int64\n",
       "su_attempted                     int64\n",
       "num_root                         int64\n",
       "num_file_creations               int64\n",
       "num_shells                       int64\n",
       "num_access_files                 int64\n",
       "num_outbound_cmds                int64\n",
       "is_host_login                    int64\n",
       "is_guest_login                   int64\n",
       "count                            int64\n",
       "srv_count                        int64\n",
       "serror_rate                    float64\n",
       "srv_serror_rate                float64\n",
       "rerror_rate                    float64\n",
       "srv_rerror_rate                float64\n",
       "same_srv_rate                  float64\n",
       "diff_srv_rate                  float64\n",
       "srv_diff_host_rate             float64\n",
       "dst_host_count                   int64\n",
       "dst_host_srv_count               int64\n",
       "dst_host_same_srv_rate         float64\n",
       "dst_host_diff_srv_rate         float64\n",
       "dst_host_same_src_port_rate    float64\n",
       "dst_host_srv_diff_host_rate    float64\n",
       "dst_host_serror_rate           float64\n",
       "dst_host_srv_serror_rate       float64\n",
       "dst_host_rerror_rate           float64\n",
       "dst_host_srv_rerror_rate       float64\n",
       "target                          object\n",
       "Attack Type                     object\n",
       "dtype: object"
      ]
     },
     "execution_count": 11,
     "metadata": {},
     "output_type": "execute_result"
    }
   ],
   "source": [
    "df.dtypes"
   ]
  },
  {
   "cell_type": "code",
   "execution_count": null,
   "metadata": {
    "colab": {
     "base_uri": "https://localhost:8080/"
    },
    "id": "0TGU_zjdOEv1",
    "outputId": "e54de4d7-6201-47e9-fdcf-2f0161f1c36d"
   },
   "outputs": [
    {
     "data": {
      "text/plain": [
       "duration                       0\n",
       "protocol_type                  0\n",
       "service                        0\n",
       "flag                           0\n",
       "src_bytes                      0\n",
       "dst_bytes                      0\n",
       "land                           0\n",
       "wrong_fragment                 0\n",
       "urgent                         0\n",
       "hot                            0\n",
       "num_failed_logins              0\n",
       "logged_in                      0\n",
       "num_compromised                0\n",
       "root_shell                     0\n",
       "su_attempted                   0\n",
       "num_root                       0\n",
       "num_file_creations             0\n",
       "num_shells                     0\n",
       "num_access_files               0\n",
       "num_outbound_cmds              0\n",
       "is_host_login                  0\n",
       "is_guest_login                 0\n",
       "count                          0\n",
       "srv_count                      0\n",
       "serror_rate                    0\n",
       "srv_serror_rate                0\n",
       "rerror_rate                    0\n",
       "srv_rerror_rate                0\n",
       "same_srv_rate                  0\n",
       "diff_srv_rate                  0\n",
       "srv_diff_host_rate             0\n",
       "dst_host_count                 0\n",
       "dst_host_srv_count             0\n",
       "dst_host_same_srv_rate         0\n",
       "dst_host_diff_srv_rate         0\n",
       "dst_host_same_src_port_rate    0\n",
       "dst_host_srv_diff_host_rate    0\n",
       "dst_host_serror_rate           0\n",
       "dst_host_srv_serror_rate       0\n",
       "dst_host_rerror_rate           0\n",
       "dst_host_srv_rerror_rate       0\n",
       "target                         0\n",
       "Attack Type                    0\n",
       "dtype: int64"
      ]
     },
     "execution_count": 12,
     "metadata": {},
     "output_type": "execute_result"
    }
   ],
   "source": [
    "df.isnull().sum()"
   ]
  },
  {
   "cell_type": "code",
   "execution_count": 93,
   "metadata": {
    "colab": {
     "base_uri": "https://localhost:8080/"
    },
    "id": "HwHbNTZzOF8y",
    "outputId": "87f766e1-f968-401b-b530-3b0fb96a091a"
   },
   "outputs": [
    {
     "data": {
      "text/plain": [
       "['service', 'flag', 'protocol_type']"
      ]
     },
     "execution_count": 93,
     "metadata": {},
     "output_type": "execute_result"
    }
   ],
   "source": [
    "#Finding categorical features\n",
    "num_cols = df._get_numeric_data().columns\n",
    "\n",
    "cate_cols = list(set(df.columns)-set(num_cols))\n",
    "cate_cols.remove('target')\n",
    "cate_cols.remove('Attack Type')\n",
    "\n",
    "cate_cols"
   ]
  },
  {
   "cell_type": "code",
   "execution_count": 8,
   "metadata": {
    "id": "k7fohjDDOIjS"
   },
   "outputs": [],
   "source": [
    "def bar_graph(feature):\n",
    "    df[feature].value_counts().plot(kind=\"bar\")"
   ]
  },
  {
   "cell_type": "code",
   "execution_count": null,
   "metadata": {
    "colab": {
     "base_uri": "https://localhost:8080/",
     "height": 280
    },
    "id": "1SFc6qDPOLIi",
    "outputId": "eca24555-7946-494c-84a4-3723cbf0cf78"
   },
   "outputs": [
    {
     "data": {
      "image/png": "[encoded data removed]",
      "text/plain": [
       "<Figure size 432x288 with 1 Axes>"
      ]
     },
     "metadata": {
      "needs_background": "light"
     },
     "output_type": "display_data"
    }
   ],
   "source": [
    "bar_graph('protocol_type')"
   ]
  },
  {
   "cell_type": "code",
   "execution_count": null,
   "metadata": {
    "colab": {
     "base_uri": "https://localhost:8080/",
     "height": 336
    },
    "id": "X1bzlnlTOMhb",
    "outputId": "9f3e0337-9514-4801-ba6c-4220a2751d7f"
   },
   "outputs": [
    {
     "data": {
      "image/png": "[encoded data removed]",
      "text/plain": [
       "<Figure size 432x288 with 1 Axes>"
      ]
     },
     "metadata": {
      "needs_background": "light"
     },
     "output_type": "display_data"
    }
   ],
   "source": [
    "bar_graph('target')"
   ]
  },
  {
   "cell_type": "code",
   "execution_count": null,
   "metadata": {
    "colab": {
     "base_uri": "https://localhost:8080/",
     "height": 290
    },
    "id": "DsHrIUN_OTyr",
    "outputId": "7400fded-3e79-4434-864c-91dc6aee201a"
   },
   "outputs": [
    {
     "data": {
      "image/png": "[encoded data removed]",
      "text/plain": [
       "<Figure size 432x288 with 1 Axes>"
      ]
     },
     "metadata": {
      "needs_background": "light"
     },
     "output_type": "display_data"
    }
   ],
   "source": [
    "bar_graph('Attack Type')"
   ]
  },
  {
   "cell_type": "code",
   "execution_count": 94,
   "metadata": {
    "colab": {
     "base_uri": "https://localhost:8080/",
     "height": 873
    },
    "id": "Vck7O24AOexQ",
    "outputId": "ea0f8799-f4e8-4c68-c3d6-b079fb484e46"
   },
   "outputs": [
    {
     "name": "stderr",
     "output_type": "stream",
     "text": [
      "<ipython-input-94-31c74935275d>:1: FutureWarning: In a future version of pandas all arguments of DataFrame.dropna will be keyword-only\n",
      "  df = df.dropna('columns')# drop columns with NaN\n"
     ]
    },
    {
     "data": {
      "image/png": "[encoded data removed]",
      "text/plain": [
       "<Figure size 1080x864 with 2 Axes>"
      ]
     },
     "metadata": {
      "needs_background": "light"
     },
     "output_type": "display_data"
    }
   ],
   "source": [
    "df = df.dropna('columns')# drop columns with NaN\n",
    "\n",
    "df = df[[col for col in df if df[col].nunique() > 1]]# keep columns where there are more than 1 unique values\n",
    "\n",
    "corr = df.corr()\n",
    "\n",
    "plt.figure(figsize=(15,12))\n",
    "\n",
    "sns.heatmap(corr)\n",
    "\n",
    "plt.show()"
   ]
  },
  {
   "cell_type": "code",
   "execution_count": 95,
   "metadata": {
    "id": "qWW94_ZPOhys"
   },
   "outputs": [],
   "source": [
    "\n",
    "df.drop('num_root',axis = 1,inplace = True)\n",
    "df.drop('srv_serror_rate',axis = 1,inplace = True)\n",
    "df.drop('srv_rerror_rate',axis = 1, inplace=True)\n",
    "df.drop('dst_host_srv_serror_rate',axis = 1, inplace=True)\n",
    "df.drop('dst_host_serror_rate',axis = 1, inplace=True)\n",
    "df.drop('dst_host_rerror_rate',axis = 1, inplace=True)\n",
    "df.drop('dst_host_srv_rerror_rate',axis = 1, inplace=True)\n",
    "df.drop('dst_host_same_srv_rate',axis = 1, inplace=True)"
   ]
  },
  {
   "cell_type": "code",
   "execution_count": 96,
   "metadata": {
    "colab": {
     "base_uri": "https://localhost:8080/"
    },
    "id": "bGydUaTFOp0c",
    "outputId": "f149159d-5b69-47dd-8b6a-e3db5219c71f"
   },
   "outputs": [
    {
     "name": "stderr",
     "output_type": "stream",
     "text": [
      "<ipython-input-96-2938f6df5f03>:1: FutureWarning: Dropping of nuisance columns in DataFrame reductions (with 'numeric_only=None') is deprecated; in a future version this will raise TypeError.  Select only valid columns before calling the reduction.\n",
      "  df_std = df.std()\n"
     ]
    },
    {
     "data": {
      "text/plain": [
       "urgent                              0.005510\n",
       "land                                0.006673\n",
       "su_attempted                        0.007793\n",
       "root_shell                          0.010551\n",
       "num_shells                          0.011020\n",
       "num_failed_logins                   0.015520\n",
       "num_access_files                    0.036482\n",
       "is_guest_login                      0.037211\n",
       "dst_host_srv_diff_host_rate         0.042133\n",
       "diff_srv_rate                       0.082205\n",
       "num_file_creations                  0.096416\n",
       "dst_host_diff_srv_rate              0.109259\n",
       "wrong_fragment                      0.134805\n",
       "srv_diff_host_rate                  0.142397\n",
       "rerror_rate                         0.231623\n",
       "logged_in                           0.355345\n",
       "serror_rate                         0.380717\n",
       "same_srv_rate                       0.388189\n",
       "dst_host_same_src_port_rate         0.481309\n",
       "hot                                 0.782103\n",
       "num_compromised                     1.798326\n",
       "dst_host_count                     64.745380\n",
       "dst_host_srv_count                106.040437\n",
       "count                             213.147412\n",
       "srv_count                         246.322817\n",
       "duration                          707.746472\n",
       "dst_bytes                       33040.001252\n",
       "src_bytes                      988218.101050\n",
       "dtype: float64"
      ]
     },
     "execution_count": 96,
     "metadata": {},
     "output_type": "execute_result"
    }
   ],
   "source": [
    "df_std = df.std()\n",
    "df_std = df_std.sort_values(ascending = True)\n",
    "df_std"
   ]
  },
  {
   "cell_type": "code",
   "execution_count": null,
   "metadata": {
    "colab": {
     "base_uri": "https://localhost:8080/"
    },
    "id": "MjnUW1t8OrmO",
    "outputId": "00ac7925-cf3c-485e-f704-9c9145cfc3df"
   },
   "outputs": [
    {
     "data": {
      "text/plain": [
       "icmp    283602\n",
       "tcp     190065\n",
       "udp      20354\n",
       "Name: protocol_type, dtype: int64"
      ]
     },
     "execution_count": 22,
     "metadata": {},
     "output_type": "execute_result"
    }
   ],
   "source": [
    "df['protocol_type'].value_counts()"
   ]
  },
  {
   "cell_type": "code",
   "execution_count": 97,
   "metadata": {
    "id": "uOSbud9dOuZp"
   },
   "outputs": [],
   "source": [
    "#protocol_type feature mapping\n",
    "pmap = {'icmp':0,'tcp':1,'udp':2}\n",
    "df['protocol_type'] = df['protocol_type'].map(pmap)"
   ]
  },
  {
   "cell_type": "code",
   "execution_count": 47,
   "metadata": {
    "colab": {
     "base_uri": "https://localhost:8080/"
    },
    "id": "LxPl8WrFOvAa",
    "outputId": "afc81234-d935-42ad-d1ec-1a9c149b0968"
   },
   "outputs": [
    {
     "data": {
      "text/plain": [
       "SF        378440\n",
       "S0         87007\n",
       "REJ        26875\n",
       "RSTR         903\n",
       "RSTO         579\n",
       "SH           107\n",
       "S1            57\n",
       "S2            24\n",
       "RSTOS0        11\n",
       "S3            10\n",
       "OTH            8\n",
       "Name: flag, dtype: int64"
      ]
     },
     "execution_count": 47,
     "metadata": {},
     "output_type": "execute_result"
    }
   ],
   "source": [
    "df['flag'].value_counts()"
   ]
  },
  {
   "cell_type": "code",
   "execution_count": 98,
   "metadata": {
    "id": "zuuJEbOKOwbc"
   },
   "outputs": [],
   "source": [
    "#flag feature mapping\n",
    "fmap = {'SF':0,'S0':1,'REJ':2,'RSTR':3,'RSTO':4,'SH':5 ,'S1':6 ,'S2':7,'RSTOS0':8,'S3':9 ,'OTH':10}\n",
    "df['flag'] = df['flag'].map(fmap)"
   ]
  },
  {
   "cell_type": "code",
   "execution_count": 99,
   "metadata": {
    "id": "ZIy1Gh8VOyXK"
   },
   "outputs": [],
   "source": [
    "df.drop('service',axis = 1,inplace= True)"
   ]
  },
  {
   "cell_type": "code",
   "execution_count": 100,
   "metadata": {
    "colab": {
     "base_uri": "https://localhost:8080/"
    },
    "id": "tp90OgiVOzpa",
    "outputId": "51feb59e-7c8c-46cf-e3ca-00be256b9262"
   },
   "outputs": [
    {
     "name": "stdout",
     "output_type": "stream",
     "text": [
      "(494021, 31)\n",
      "(330994, 30) (163027, 30)\n",
      "(330994,) (163027,)\n"
     ]
    },
    {
     "name": "stderr",
     "output_type": "stream",
     "text": [
      "/usr/local/lib/python3.8/dist-packages/sklearn/preprocessing/_label.py:115: DataConversionWarning: A column-vector y was passed when a 1d array was expected. Please change the shape of y to (n_samples, ), for example using ravel().\n",
      "  y = column_or_1d(y, warn=True)\n"
     ]
    }
   ],
   "source": [
    "from sklearn.preprocessing import LabelEncoder\n",
    "lb = LabelEncoder()\n",
    "\n",
    "df = df.drop(['target',], axis=1)\n",
    "print(df.shape)\n",
    "\n",
    "# Target variable and train set\n",
    "Y = df[['Attack Type']]\n",
    "X = df.drop(['Attack Type',], axis=1)\n",
    "\n",
    "sc = MinMaxScaler()\n",
    "X = sc.fit_transform(X)\n",
    "\n",
    "# Split test and train data \n",
    "\n",
    "X_train, X_test, Y_train, Y_test = train_test_split(X, Y, test_size=0.33, random_state=42)\n",
    "Y_train = lb.fit_transform(Y_train)\n",
    "Y_test = lb.fit_transform(Y_test)\n",
    "print(X_train.shape, X_test.shape)\n",
    "print(Y_train.shape, Y_test.shape)"
   ]
  },
  {
   "cell_type": "code",
   "execution_count": 108,
   "metadata": {
    "colab": {
     "base_uri": "https://localhost:8080/"
    },
    "id": "Z_ZkNvV_ZJGs",
    "outputId": "64a67a50-9055-45eb-a5a6-508a0bd93786"
   },
   "outputs": [
    {
     "name": "stdout",
     "output_type": "stream",
     "text": [
      "Model: \"sequential_18\"\n",
      "_________________________________________________________________\n",
      " Layer (type)                Output Shape              Param #   \n",
      "=================================================================\n",
      " dense_52 (Dense)            (None, 30)                930       \n",
      "                                                                 \n",
      " dense_53 (Dense)            (None, 1)                 31        \n",
      "                                                                 \n",
      " dense_54 (Dense)            (None, 5)                 10        \n",
      "                                                                 \n",
      "=================================================================\n",
      "Total params: 971\n",
      "Trainable params: 971\n",
      "Non-trainable params: 0\n",
      "_________________________________________________________________\n"
     ]
    }
   ],
   "source": [
    "def create_model():\n",
    "  model = tf.keras.models.Sequential([\n",
    "      keras.layers.Dense(30, activation='relu', input_dim=30,kernel_initializer='random_uniform'),\n",
    "      keras.layers.Dense(1,activation='sigmoid',kernel_initializer='random_uniform'),\n",
    "      keras.layers.Dense(5, activation='softmax')\n",
    "  ])\n",
    "  model.compile(optimizer='adam',\n",
    "                loss=tf.losses.SparseCategoricalCrossentropy(from_logits=True),\n",
    "                metrics=[tf.metrics.SparseCategoricalAccuracy()])\n",
    "  return model\n",
    "\n",
    "model = create_model()\n",
    "model.summary()"
   ]
  },
  {
   "cell_type": "code",
   "execution_count": 103,
   "metadata": {
    "id": "gbpeQBHWaQtb"
   },
   "outputs": [],
   "source": [
    "checkpoint_path = \"training_1/cp.ckpt\"\n",
    "checkpoint_dir = os.path.dirname(checkpoint_path)\n",
    "\n",
    "# Create a callback that saves the model's weights\n",
    "cp_callback = tf.keras.callbacks.ModelCheckpoint(filepath=checkpoint_path,\n",
    "                                                 save_weights_only=True,\n",
    "                                                 verbose=1)"
   ]
  },
  {
   "cell_type": "code",
   "execution_count": 109,
   "metadata": {
    "colab": {
     "base_uri": "https://localhost:8080/"
    },
    "id": "pkEFkw8vO8ST",
    "outputId": "bf34b196-9b16-47db-cd92-0bbf6114f0b9"
   },
   "outputs": [
    {
     "name": "stdout",
     "output_type": "stream",
     "text": [
      "Epoch 1/100\n"
     ]
    },
    {
     "name": "stderr",
     "output_type": "stream",
     "text": [
      "/usr/local/lib/python3.8/dist-packages/tensorflow/python/util/dispatch.py:1082: UserWarning: \"`sparse_categorical_crossentropy` received `from_logits=True`, but the `output` argument was produced by a sigmoid or softmax activation and thus does not represent logits. Was this intended?\"\n",
      "  return dispatch_target(*args, **kwargs)\n"
     ]
    },
    {
     "name": "stdout",
     "output_type": "stream",
     "text": [
      "5172/5172 [==============================] - 17s 3ms/step - loss: 0.3122 - sparse_categorical_accuracy: 0.9168 - val_loss: 0.1015 - val_sparse_categorical_accuracy: 0.9845\n",
      "Epoch 2/100\n",
      "5172/5172 [==============================] - 17s 3ms/step - loss: 0.0814 - sparse_categorical_accuracy: 0.9845 - val_loss: 0.0728 - val_sparse_categorical_accuracy: 0.9846\n",
      "Epoch 3/100\n",
      "5172/5172 [==============================] - 14s 3ms/step - loss: 0.0700 - sparse_categorical_accuracy: 0.9846 - val_loss: 0.0672 - val_sparse_categorical_accuracy: 0.9847\n",
      "Epoch 4/100\n",
      "5172/5172 [==============================] - 14s 3ms/step - loss: 0.0646 - sparse_categorical_accuracy: 0.9847 - val_loss: 0.0626 - val_sparse_categorical_accuracy: 0.9847\n",
      "Epoch 5/100\n",
      "5172/5172 [==============================] - 15s 3ms/step - loss: 0.0607 - sparse_categorical_accuracy: 0.9847 - val_loss: 0.0595 - val_sparse_categorical_accuracy: 0.9846\n",
      "Epoch 6/100\n",
      "5172/5172 [==============================] - 15s 3ms/step - loss: 0.0580 - sparse_categorical_accuracy: 0.9847 - val_loss: 0.0574 - val_sparse_categorical_accuracy: 0.9847\n",
      "Epoch 7/100\n",
      "5172/5172 [==============================] - 15s 3ms/step - loss: 0.0562 - sparse_categorical_accuracy: 0.9848 - val_loss: 0.0557 - val_sparse_categorical_accuracy: 0.9847\n",
      "Epoch 8/100\n",
      "5172/5172 [==============================] - 15s 3ms/step - loss: 0.0551 - sparse_categorical_accuracy: 0.9848 - val_loss: 0.0548 - val_sparse_categorical_accuracy: 0.9847\n",
      "Epoch 9/100\n",
      "5172/5172 [==============================] - 13s 3ms/step - loss: 0.0542 - sparse_categorical_accuracy: 0.9848 - val_loss: 0.0541 - val_sparse_categorical_accuracy: 0.9847\n",
      "Epoch 10/100\n",
      "5172/5172 [==============================] - 15s 3ms/step - loss: 0.0536 - sparse_categorical_accuracy: 0.9847 - val_loss: 0.0534 - val_sparse_categorical_accuracy: 0.9847\n",
      "Epoch 11/100\n",
      "5172/5172 [==============================] - 15s 3ms/step - loss: 0.0530 - sparse_categorical_accuracy: 0.9847 - val_loss: 0.0528 - val_sparse_categorical_accuracy: 0.9847\n",
      "Epoch 12/100\n",
      "5172/5172 [==============================] - 13s 3ms/step - loss: 0.0525 - sparse_categorical_accuracy: 0.9849 - val_loss: 0.0524 - val_sparse_categorical_accuracy: 0.9848\n",
      "Epoch 13/100\n",
      "5172/5172 [==============================] - 15s 3ms/step - loss: 0.0520 - sparse_categorical_accuracy: 0.9852 - val_loss: 0.0521 - val_sparse_categorical_accuracy: 0.9847\n",
      "Epoch 14/100\n",
      "5172/5172 [==============================] - 13s 3ms/step - loss: 0.0516 - sparse_categorical_accuracy: 0.9855 - val_loss: 0.0526 - val_sparse_categorical_accuracy: 0.9847\n",
      "Epoch 15/100\n",
      "5172/5172 [==============================] - 13s 3ms/step - loss: 0.0512 - sparse_categorical_accuracy: 0.9858 - val_loss: 0.0517 - val_sparse_categorical_accuracy: 0.9885\n",
      "Epoch 16/100\n",
      "5172/5172 [==============================] - 13s 3ms/step - loss: 0.0509 - sparse_categorical_accuracy: 0.9861 - val_loss: 0.0509 - val_sparse_categorical_accuracy: 0.9858\n",
      "Epoch 17/100\n",
      "5172/5172 [==============================] - 14s 3ms/step - loss: 0.0506 - sparse_categorical_accuracy: 0.9866 - val_loss: 0.0509 - val_sparse_categorical_accuracy: 0.9859\n",
      "Epoch 18/100\n",
      "5172/5172 [==============================] - 14s 3ms/step - loss: 0.0502 - sparse_categorical_accuracy: 0.9870 - val_loss: 0.0503 - val_sparse_categorical_accuracy: 0.9853\n",
      "Epoch 19/100\n",
      "5172/5172 [==============================] - 15s 3ms/step - loss: 0.0449 - sparse_categorical_accuracy: 0.9857 - val_loss: 0.0367 - val_sparse_categorical_accuracy: 0.9865\n",
      "Epoch 20/100\n",
      "5172/5172 [==============================] - 13s 3ms/step - loss: 0.0278 - sparse_categorical_accuracy: 0.9900 - val_loss: 0.0242 - val_sparse_categorical_accuracy: 0.9949\n",
      "Epoch 21/100\n",
      "5172/5172 [==============================] - 15s 3ms/step - loss: 0.0201 - sparse_categorical_accuracy: 0.9957 - val_loss: 0.0186 - val_sparse_categorical_accuracy: 0.9960\n",
      "Epoch 22/100\n",
      "5172/5172 [==============================] - 13s 3ms/step - loss: 0.0167 - sparse_categorical_accuracy: 0.9964 - val_loss: 0.0165 - val_sparse_categorical_accuracy: 0.9964\n",
      "Epoch 23/100\n",
      "5172/5172 [==============================] - 13s 3ms/step - loss: 0.0150 - sparse_categorical_accuracy: 0.9965 - val_loss: 0.0157 - val_sparse_categorical_accuracy: 0.9963\n",
      "Epoch 24/100\n",
      "5172/5172 [==============================] - 15s 3ms/step - loss: 0.0142 - sparse_categorical_accuracy: 0.9966 - val_loss: 0.0149 - val_sparse_categorical_accuracy: 0.9965\n",
      "Epoch 25/100\n",
      "5172/5172 [==============================] - 15s 3ms/step - loss: 0.0135 - sparse_categorical_accuracy: 0.9967 - val_loss: 0.0149 - val_sparse_categorical_accuracy: 0.9964\n",
      "Epoch 26/100\n",
      "5172/5172 [==============================] - 16s 3ms/step - loss: 0.0131 - sparse_categorical_accuracy: 0.9968 - val_loss: 0.0141 - val_sparse_categorical_accuracy: 0.9964\n",
      "Epoch 27/100\n",
      "5172/5172 [==============================] - 15s 3ms/step - loss: 0.0127 - sparse_categorical_accuracy: 0.9968 - val_loss: 0.0139 - val_sparse_categorical_accuracy: 0.9965\n",
      "Epoch 28/100\n",
      "5172/5172 [==============================] - 16s 3ms/step - loss: 0.0125 - sparse_categorical_accuracy: 0.9968 - val_loss: 0.0140 - val_sparse_categorical_accuracy: 0.9967\n",
      "Epoch 29/100\n",
      "5172/5172 [==============================] - 15s 3ms/step - loss: 0.0123 - sparse_categorical_accuracy: 0.9969 - val_loss: 0.0133 - val_sparse_categorical_accuracy: 0.9966\n",
      "Epoch 30/100\n",
      "5172/5172 [==============================] - 15s 3ms/step - loss: 0.0120 - sparse_categorical_accuracy: 0.9969 - val_loss: 0.0131 - val_sparse_categorical_accuracy: 0.9966\n",
      "Epoch 31/100\n",
      "5172/5172 [==============================] - 15s 3ms/step - loss: 0.0118 - sparse_categorical_accuracy: 0.9969 - val_loss: 0.0132 - val_sparse_categorical_accuracy: 0.9965\n",
      "Epoch 32/100\n",
      "5172/5172 [==============================] - 16s 3ms/step - loss: 0.0117 - sparse_categorical_accuracy: 0.9969 - val_loss: 0.0128 - val_sparse_categorical_accuracy: 0.9966\n",
      "Epoch 33/100\n",
      "5172/5172 [==============================] - 13s 3ms/step - loss: 0.0114 - sparse_categorical_accuracy: 0.9969 - val_loss: 0.0125 - val_sparse_categorical_accuracy: 0.9967\n",
      "Epoch 34/100\n",
      "5172/5172 [==============================] - 15s 3ms/step - loss: 0.0112 - sparse_categorical_accuracy: 0.9970 - val_loss: 0.0126 - val_sparse_categorical_accuracy: 0.9967\n",
      "Epoch 35/100\n",
      "5172/5172 [==============================] - 13s 3ms/step - loss: 0.0110 - sparse_categorical_accuracy: 0.9970 - val_loss: 0.0121 - val_sparse_categorical_accuracy: 0.9967\n",
      "Epoch 36/100\n",
      "5172/5172 [==============================] - 13s 3ms/step - loss: 0.0108 - sparse_categorical_accuracy: 0.9970 - val_loss: 0.0124 - val_sparse_categorical_accuracy: 0.9967\n",
      "Epoch 37/100\n",
      "5172/5172 [==============================] - 15s 3ms/step - loss: 0.0107 - sparse_categorical_accuracy: 0.9970 - val_loss: 0.0119 - val_sparse_categorical_accuracy: 0.9968\n",
      "Epoch 38/100\n",
      "5172/5172 [==============================] - 13s 3ms/step - loss: 0.0105 - sparse_categorical_accuracy: 0.9970 - val_loss: 0.0119 - val_sparse_categorical_accuracy: 0.9967\n",
      "Epoch 39/100\n",
      "5172/5172 [==============================] - 13s 3ms/step - loss: 0.0103 - sparse_categorical_accuracy: 0.9970 - val_loss: 0.0114 - val_sparse_categorical_accuracy: 0.9968\n",
      "Epoch 40/100\n",
      "5172/5172 [==============================] - 15s 3ms/step - loss: 0.0102 - sparse_categorical_accuracy: 0.9970 - val_loss: 0.0116 - val_sparse_categorical_accuracy: 0.9967\n",
      "Epoch 41/100\n",
      "5172/5172 [==============================] - 13s 3ms/step - loss: 0.0100 - sparse_categorical_accuracy: 0.9971 - val_loss: 0.0114 - val_sparse_categorical_accuracy: 0.9968\n",
      "Epoch 42/100\n",
      "5172/5172 [==============================] - 15s 3ms/step - loss: 0.0099 - sparse_categorical_accuracy: 0.9970 - val_loss: 0.0111 - val_sparse_categorical_accuracy: 0.9967\n",
      "Epoch 43/100\n",
      "5172/5172 [==============================] - 15s 3ms/step - loss: 0.0097 - sparse_categorical_accuracy: 0.9970 - val_loss: 0.0113 - val_sparse_categorical_accuracy: 0.9968\n",
      "Epoch 44/100\n",
      "5172/5172 [==============================] - 13s 3ms/step - loss: 0.0096 - sparse_categorical_accuracy: 0.9971 - val_loss: 0.0110 - val_sparse_categorical_accuracy: 0.9968\n",
      "Epoch 45/100\n",
      "5172/5172 [==============================] - 15s 3ms/step - loss: 0.0094 - sparse_categorical_accuracy: 0.9970 - val_loss: 0.0108 - val_sparse_categorical_accuracy: 0.9970\n",
      "Epoch 46/100\n",
      "5172/5172 [==============================] - 15s 3ms/step - loss: 0.0094 - sparse_categorical_accuracy: 0.9971 - val_loss: 0.0110 - val_sparse_categorical_accuracy: 0.9970\n",
      "Epoch 47/100\n",
      "5172/5172 [==============================] - 14s 3ms/step - loss: 0.0092 - sparse_categorical_accuracy: 0.9973 - val_loss: 0.0105 - val_sparse_categorical_accuracy: 0.9968\n",
      "Epoch 48/100\n",
      "5172/5172 [==============================] - 15s 3ms/step - loss: 0.0092 - sparse_categorical_accuracy: 0.9973 - val_loss: 0.0105 - val_sparse_categorical_accuracy: 0.9973\n",
      "Epoch 49/100\n",
      "5172/5172 [==============================] - 15s 3ms/step - loss: 0.0090 - sparse_categorical_accuracy: 0.9975 - val_loss: 0.0122 - val_sparse_categorical_accuracy: 0.9965\n",
      "Epoch 50/100\n",
      "5172/5172 [==============================] - 13s 3ms/step - loss: 0.0089 - sparse_categorical_accuracy: 0.9975 - val_loss: 0.0107 - val_sparse_categorical_accuracy: 0.9974\n",
      "Epoch 51/100\n",
      "5172/5172 [==============================] - 14s 3ms/step - loss: 0.0089 - sparse_categorical_accuracy: 0.9976 - val_loss: 0.0105 - val_sparse_categorical_accuracy: 0.9984\n",
      "Epoch 52/100\n",
      "5172/5172 [==============================] - 16s 3ms/step - loss: 0.0088 - sparse_categorical_accuracy: 0.9979 - val_loss: 0.0107 - val_sparse_categorical_accuracy: 0.9980\n",
      "Epoch 53/100\n",
      "5172/5172 [==============================] - 14s 3ms/step - loss: 0.0087 - sparse_categorical_accuracy: 0.9979 - val_loss: 0.0105 - val_sparse_categorical_accuracy: 0.9979\n",
      "Epoch 54/100\n",
      "5172/5172 [==============================] - 16s 3ms/step - loss: 0.0087 - sparse_categorical_accuracy: 0.9981 - val_loss: 0.0101 - val_sparse_categorical_accuracy: 0.9977\n",
      "Epoch 55/100\n",
      "5172/5172 [==============================] - 16s 3ms/step - loss: 0.0086 - sparse_categorical_accuracy: 0.9981 - val_loss: 0.0108 - val_sparse_categorical_accuracy: 0.9971\n",
      "Epoch 56/100\n",
      "5172/5172 [==============================] - 14s 3ms/step - loss: 0.0086 - sparse_categorical_accuracy: 0.9981 - val_loss: 0.0106 - val_sparse_categorical_accuracy: 0.9973\n",
      "Epoch 57/100\n",
      "5172/5172 [==============================] - 16s 3ms/step - loss: 0.0085 - sparse_categorical_accuracy: 0.9982 - val_loss: 0.0100 - val_sparse_categorical_accuracy: 0.9986\n",
      "Epoch 58/100\n",
      "5172/5172 [==============================] - 16s 3ms/step - loss: 0.0084 - sparse_categorical_accuracy: 0.9983 - val_loss: 0.0105 - val_sparse_categorical_accuracy: 0.9980\n",
      "Epoch 59/100\n",
      "5172/5172 [==============================] - 14s 3ms/step - loss: 0.0084 - sparse_categorical_accuracy: 0.9984 - val_loss: 0.0100 - val_sparse_categorical_accuracy: 0.9977\n",
      "Epoch 60/100\n",
      "5172/5172 [==============================] - 16s 3ms/step - loss: 0.0082 - sparse_categorical_accuracy: 0.9983 - val_loss: 0.0111 - val_sparse_categorical_accuracy: 0.9976\n",
      "Epoch 61/100\n",
      "5172/5172 [==============================] - 16s 3ms/step - loss: 0.0083 - sparse_categorical_accuracy: 0.9984 - val_loss: 0.0102 - val_sparse_categorical_accuracy: 0.9982\n",
      "Epoch 62/100\n",
      "5172/5172 [==============================] - 16s 3ms/step - loss: 0.0081 - sparse_categorical_accuracy: 0.9985 - val_loss: 0.0098 - val_sparse_categorical_accuracy: 0.9986\n",
      "Epoch 63/100\n",
      "5172/5172 [==============================] - 16s 3ms/step - loss: 0.0081 - sparse_categorical_accuracy: 0.9985 - val_loss: 0.0096 - val_sparse_categorical_accuracy: 0.9985\n",
      "Epoch 64/100\n",
      "5172/5172 [==============================] - 16s 3ms/step - loss: 0.0081 - sparse_categorical_accuracy: 0.9985 - val_loss: 0.0096 - val_sparse_categorical_accuracy: 0.9986\n",
      "Epoch 65/100\n",
      "5172/5172 [==============================] - 16s 3ms/step - loss: 0.0081 - sparse_categorical_accuracy: 0.9986 - val_loss: 0.0099 - val_sparse_categorical_accuracy: 0.9984\n",
      "Epoch 66/100\n",
      "5172/5172 [==============================] - 14s 3ms/step - loss: 0.0080 - sparse_categorical_accuracy: 0.9986 - val_loss: 0.0101 - val_sparse_categorical_accuracy: 0.9985\n",
      "Epoch 67/100\n",
      "5172/5172 [==============================] - 14s 3ms/step - loss: 0.0078 - sparse_categorical_accuracy: 0.9986 - val_loss: 0.0123 - val_sparse_categorical_accuracy: 0.9972\n",
      "Epoch 68/100\n",
      "5172/5172 [==============================] - 14s 3ms/step - loss: 0.0079 - sparse_categorical_accuracy: 0.9986 - val_loss: 0.0097 - val_sparse_categorical_accuracy: 0.9985\n",
      "Epoch 69/100\n",
      "5172/5172 [==============================] - 16s 3ms/step - loss: 0.0078 - sparse_categorical_accuracy: 0.9987 - val_loss: 0.0102 - val_sparse_categorical_accuracy: 0.9977\n",
      "Epoch 70/100\n",
      "5172/5172 [==============================] - 15s 3ms/step - loss: 0.0078 - sparse_categorical_accuracy: 0.9987 - val_loss: 0.0109 - val_sparse_categorical_accuracy: 0.9978\n",
      "Epoch 71/100\n",
      "5172/5172 [==============================] - 16s 3ms/step - loss: 0.0078 - sparse_categorical_accuracy: 0.9987 - val_loss: 0.0093 - val_sparse_categorical_accuracy: 0.9988\n",
      "Epoch 72/100\n",
      "5172/5172 [==============================] - 14s 3ms/step - loss: 0.0077 - sparse_categorical_accuracy: 0.9987 - val_loss: 0.0095 - val_sparse_categorical_accuracy: 0.9988\n",
      "Epoch 73/100\n",
      "5172/5172 [==============================] - 16s 3ms/step - loss: 0.0078 - sparse_categorical_accuracy: 0.9987 - val_loss: 0.0096 - val_sparse_categorical_accuracy: 0.9988\n",
      "Epoch 74/100\n",
      "5172/5172 [==============================] - 16s 3ms/step - loss: 0.0076 - sparse_categorical_accuracy: 0.9988 - val_loss: 0.0099 - val_sparse_categorical_accuracy: 0.9985\n",
      "Epoch 75/100\n",
      "5172/5172 [==============================] - 16s 3ms/step - loss: 0.0076 - sparse_categorical_accuracy: 0.9987 - val_loss: 0.0095 - val_sparse_categorical_accuracy: 0.9987\n",
      "Epoch 76/100\n",
      "5172/5172 [==============================] - 20s 4ms/step - loss: 0.0076 - sparse_categorical_accuracy: 0.9988 - val_loss: 0.0109 - val_sparse_categorical_accuracy: 0.9981\n",
      "Epoch 77/100\n",
      "5172/5172 [==============================] - 15s 3ms/step - loss: 0.0077 - sparse_categorical_accuracy: 0.9988 - val_loss: 0.0096 - val_sparse_categorical_accuracy: 0.9987\n",
      "Epoch 78/100\n",
      "5172/5172 [==============================] - 15s 3ms/step - loss: 0.0075 - sparse_categorical_accuracy: 0.9988 - val_loss: 0.0095 - val_sparse_categorical_accuracy: 0.9987\n",
      "Epoch 79/100\n",
      "5172/5172 [==============================] - 16s 3ms/step - loss: 0.0075 - sparse_categorical_accuracy: 0.9989 - val_loss: 0.0103 - val_sparse_categorical_accuracy: 0.9983\n",
      "Epoch 80/100\n",
      "5172/5172 [==============================] - 16s 3ms/step - loss: 0.0074 - sparse_categorical_accuracy: 0.9988 - val_loss: 0.0095 - val_sparse_categorical_accuracy: 0.9981\n",
      "Epoch 81/100\n",
      "5172/5172 [==============================] - 14s 3ms/step - loss: 0.0075 - sparse_categorical_accuracy: 0.9988 - val_loss: 0.0093 - val_sparse_categorical_accuracy: 0.9988\n",
      "Epoch 82/100\n",
      "5172/5172 [==============================] - 16s 3ms/step - loss: 0.0074 - sparse_categorical_accuracy: 0.9988 - val_loss: 0.0091 - val_sparse_categorical_accuracy: 0.9988\n",
      "Epoch 83/100\n",
      "5172/5172 [==============================] - 14s 3ms/step - loss: 0.0074 - sparse_categorical_accuracy: 0.9988 - val_loss: 0.0091 - val_sparse_categorical_accuracy: 0.9987\n",
      "Epoch 84/100\n",
      "5172/5172 [==============================] - 14s 3ms/step - loss: 0.0074 - sparse_categorical_accuracy: 0.9989 - val_loss: 0.0097 - val_sparse_categorical_accuracy: 0.9987\n",
      "Epoch 85/100\n",
      "5172/5172 [==============================] - 16s 3ms/step - loss: 0.0074 - sparse_categorical_accuracy: 0.9988 - val_loss: 0.0094 - val_sparse_categorical_accuracy: 0.9988\n",
      "Epoch 86/100\n",
      "5172/5172 [==============================] - 14s 3ms/step - loss: 0.0073 - sparse_categorical_accuracy: 0.9989 - val_loss: 0.0093 - val_sparse_categorical_accuracy: 0.9986\n",
      "Epoch 87/100\n",
      "5172/5172 [==============================] - 14s 3ms/step - loss: 0.0073 - sparse_categorical_accuracy: 0.9988 - val_loss: 0.0096 - val_sparse_categorical_accuracy: 0.9986\n",
      "Epoch 88/100\n",
      "5172/5172 [==============================] - 16s 3ms/step - loss: 0.0073 - sparse_categorical_accuracy: 0.9989 - val_loss: 0.0095 - val_sparse_categorical_accuracy: 0.9987\n",
      "Epoch 89/100\n",
      "5172/5172 [==============================] - 16s 3ms/step - loss: 0.0073 - sparse_categorical_accuracy: 0.9989 - val_loss: 0.0092 - val_sparse_categorical_accuracy: 0.9987\n",
      "Epoch 90/100\n",
      "5172/5172 [==============================] - 14s 3ms/step - loss: 0.0073 - sparse_categorical_accuracy: 0.9989 - val_loss: 0.0113 - val_sparse_categorical_accuracy: 0.9970\n",
      "Epoch 91/100\n",
      "5172/5172 [==============================] - 16s 3ms/step - loss: 0.0072 - sparse_categorical_accuracy: 0.9989 - val_loss: 0.0091 - val_sparse_categorical_accuracy: 0.9988\n",
      "Epoch 92/100\n",
      "5172/5172 [==============================] - 16s 3ms/step - loss: 0.0072 - sparse_categorical_accuracy: 0.9989 - val_loss: 0.0092 - val_sparse_categorical_accuracy: 0.9988\n",
      "Epoch 93/100\n",
      "5172/5172 [==============================] - 14s 3ms/step - loss: 0.0072 - sparse_categorical_accuracy: 0.9989 - val_loss: 0.0094 - val_sparse_categorical_accuracy: 0.9988\n",
      "Epoch 94/100\n",
      "5172/5172 [==============================] - 16s 3ms/step - loss: 0.0072 - sparse_categorical_accuracy: 0.9989 - val_loss: 0.0091 - val_sparse_categorical_accuracy: 0.9988\n",
      "Epoch 95/100\n",
      "5172/5172 [==============================] - 14s 3ms/step - loss: 0.0070 - sparse_categorical_accuracy: 0.9989 - val_loss: 0.0092 - val_sparse_categorical_accuracy: 0.9986\n",
      "Epoch 96/100\n",
      "5172/5172 [==============================] - 16s 3ms/step - loss: 0.0071 - sparse_categorical_accuracy: 0.9989 - val_loss: 0.0091 - val_sparse_categorical_accuracy: 0.9988\n",
      "Epoch 97/100\n",
      "5172/5172 [==============================] - 16s 3ms/step - loss: 0.0070 - sparse_categorical_accuracy: 0.9989 - val_loss: 0.0092 - val_sparse_categorical_accuracy: 0.9988\n",
      "Epoch 98/100\n",
      "5172/5172 [==============================] - 14s 3ms/step - loss: 0.0071 - sparse_categorical_accuracy: 0.9989 - val_loss: 0.0102 - val_sparse_categorical_accuracy: 0.9987\n",
      "Epoch 99/100\n",
      "5172/5172 [==============================] - 16s 3ms/step - loss: 0.0070 - sparse_categorical_accuracy: 0.9989 - val_loss: 0.0094 - val_sparse_categorical_accuracy: 0.9988\n",
      "Epoch 100/100\n",
      "5172/5172 [==============================] - 16s 3ms/step - loss: 0.0070 - sparse_categorical_accuracy: 0.9990 - val_loss: 0.0097 - val_sparse_categorical_accuracy: 0.9986\n"
     ]
    },
    {
     "data": {
      "text/plain": [
       "<keras.callbacks.History at 0x7f2377245850>"
      ]
     },
     "execution_count": 109,
     "metadata": {},
     "output_type": "execute_result"
    }
   ],
   "source": [
    "# start_time = time.time()\n",
    "# model.fit(X_train,Y_train.values.ravel())\n",
    "# end_time = time.time()\n",
    "model.fit(X_train, \n",
    "          Y_train,  \n",
    "          epochs=100,\n",
    "          batch_size=64,\n",
    "          validation_data=(X_test, Y_test),)"
   ]
  },
  {
   "cell_type": "code",
   "execution_count": null,
   "metadata": {
    "colab": {
     "base_uri": "https://localhost:8080/"
    },
    "id": "wRmuGa21WbYT",
    "outputId": "15a925e8-c323-4e82-8c67-fe474a75b1cf"
   },
   "outputs": [
    {
     "name": "stdout",
     "output_type": "stream",
     "text": [
      "Testing time:  1126.238519668579\n"
     ]
    }
   ],
   "source": [
    "print(\"Testing time: \",end_time-start_time)"
   ]
  },
  {
   "cell_type": "code",
   "execution_count": 110,
   "metadata": {
    "colab": {
     "base_uri": "https://localhost:8080/"
    },
    "id": "VIKvYWPxWeOV",
    "outputId": "7f5d14d7-f14e-4bbf-eb5f-eb84b985c568"
   },
   "outputs": [
    {
     "name": "stdout",
     "output_type": "stream",
     "text": [
      "10344/10344 [==============================] - 15s 1ms/step\n"
     ]
    }
   ],
   "source": [
    "start_time = time.time()\n",
    "Y_train_pred = model.predict(X_train)\n",
    "end_time = time.time()"
   ]
  },
  {
   "cell_type": "code",
   "execution_count": 111,
   "metadata": {
    "colab": {
     "base_uri": "https://localhost:8080/"
    },
    "id": "msuEO05Xmrf_",
    "outputId": "d153cab3-f87b-4bb0-ac95-b82c4b51b889"
   },
   "outputs": [
    {
     "data": {
      "text/plain": [
       "array([[1.2111398e-12, 9.9820650e-01, 1.1026868e-05, 1.6984573e-03,\n",
       "        8.3992818e-05],\n",
       "       [9.9994761e-01, 8.1924625e-24, 5.2282769e-05, 1.1839557e-10,\n",
       "        2.2821016e-12],\n",
       "       [9.9994761e-01, 8.1924625e-24, 5.2282769e-05, 1.1839557e-10,\n",
       "        2.2821016e-12],\n",
       "       ...,\n",
       "       [9.9994761e-01, 8.1924625e-24, 5.2282769e-05, 1.1839557e-10,\n",
       "        2.2821016e-12],\n",
       "       [9.1335468e-13, 9.9842286e-01, 9.1051152e-06, 1.4939404e-03,\n",
       "        7.4123280e-05],\n",
       "       [9.9994421e-01, 1.0043250e-23, 5.5816861e-05, 1.3229315e-10,\n",
       "        2.5560626e-12]], dtype=float32)"
      ]
     },
     "execution_count": 111,
     "metadata": {},
     "output_type": "execute_result"
    }
   ],
   "source": []
  },
  {
   "cell_type": "code",
   "execution_count": 112,
   "metadata": {
    "colab": {
     "base_uri": "https://localhost:8080/"
    },
    "id": "LVT5S8KZW3d6",
    "outputId": "bcc2d5b2-f905-4ec1-db2b-28d4c7094c29"
   },
   "outputs": [
    {
     "name": "stdout",
     "output_type": "stream",
     "text": [
      "5095/5095 [==============================] - 7s 1ms/step\n"
     ]
    }
   ],
   "source": [
    "start_time = time.time()\n",
    "Y_test_pred = model.predict(X_test)\n",
    "end_time = time.time()"
   ]
  },
  {
   "cell_type": "code",
   "execution_count": 116,
   "metadata": {
    "colab": {
     "base_uri": "https://localhost:8080/"
    },
    "id": "KUV0R_E5WwKm",
    "outputId": "bd7de238-3bd7-4290-8d46-81cb428fd41e"
   },
   "outputs": [
    {
     "name": "stdout",
     "output_type": "stream",
     "text": [
      "5095/5095 - 6s - loss: 0.0097 - sparse_categorical_accuracy: 0.9986 - 6s/epoch - 1ms/step\n"
     ]
    }
   ],
   "source": [
    "# accuracy_score(Y_test,Y_test_pred)\n",
    "loss, acc = model.evaluate(X_test, Y_test, verbose=2)"
   ]
  },
  {
   "cell_type": "code",
   "execution_count": 117,
   "metadata": {
    "colab": {
     "base_uri": "https://localhost:8080/"
    },
    "id": "wTkVIoSSnPiB",
    "outputId": "30ce535a-d8fa-440a-d887-8725feeb08ac"
   },
   "outputs": [
    {
     "name": "stdout",
     "output_type": "stream",
     "text": [
      "Restored model, accuracy: 99.86%\n"
     ]
    }
   ],
   "source": [
    "print(\"Restored model, accuracy: {:5.2f}%\".format(100 * acc))"
   ]
  },
  {
   "cell_type": "code",
   "execution_count": null,
   "metadata": {
    "id": "mUZUIhG4nX3D"
   },
   "outputs": [],
   "source": []
  },
  {
   "cell_type": "code",
   "execution_count": 118,
   "metadata": {
    "id": "Klmwhgbanjqs"
   },
   "outputs": [],
   "source": [
    "!mkdir -p saved_model\n",
    "model.save('saved_model/my_model')"
   ]
  },
  {
   "cell_type": "code",
   "execution_count": 119,
   "metadata": {
    "colab": {
     "base_uri": "https://localhost:8080/"
    },
    "id": "6yHJ9Cion2qE",
    "outputId": "414d1daf-b4b1-4a8b-e8fa-8e869c1f31d2"
   },
   "outputs": [
    {
     "name": "stdout",
     "output_type": "stream",
     "text": [
      "Model: \"sequential_18\"\n",
      "_________________________________________________________________\n",
      " Layer (type)                Output Shape              Param #   \n",
      "=================================================================\n",
      " dense_52 (Dense)            (None, 30)                930       \n",
      "                                                                 \n",
      " dense_53 (Dense)            (None, 1)                 31        \n",
      "                                                                 \n",
      " dense_54 (Dense)            (None, 5)                 10        \n",
      "                                                                 \n",
      "=================================================================\n",
      "Total params: 971\n",
      "Trainable params: 971\n",
      "Non-trainable params: 0\n",
      "_________________________________________________________________\n"
     ]
    }
   ],
   "source": [
    "new_model = tf.keras.models.load_model('saved_model/my_model')\n",
    "\n",
    "# Check its architecture\n",
    "new_model.summary()"
   ]
  },
  {
   "cell_type": "code",
   "execution_count": 120,
   "metadata": {
    "colab": {
     "base_uri": "https://localhost:8080/"
    },
    "id": "k0ZtYqZ7n_ja",
    "outputId": "45ec2bf7-3e3c-47e7-cfbf-3bc51aa7550d"
   },
   "outputs": [
    {
     "name": "stderr",
     "output_type": "stream",
     "text": [
      "/usr/local/lib/python3.8/dist-packages/tensorflow/python/util/dispatch.py:1082: UserWarning: \"`sparse_categorical_crossentropy` received `from_logits=True`, but the `output` argument was produced by a sigmoid or softmax activation and thus does not represent logits. Was this intended?\"\n",
      "  return dispatch_target(*args, **kwargs)\n"
     ]
    },
    {
     "name": "stdout",
     "output_type": "stream",
     "text": [
      "5095/5095 - 6s - loss: 0.0097 - sparse_categorical_accuracy: 0.9986 - 6s/epoch - 1ms/step\n"
     ]
    }
   ],
   "source": [
    "loss, acc = new_model.evaluate(X_test, Y_test, verbose=2)"
   ]
  },
  {
   "cell_type": "code",
   "execution_count": null,
   "metadata": {
    "colab": {
     "base_uri": "https://localhost:8080/",
     "height": 337
    },
    "id": "fbTuFvAVWiX4",
    "outputId": "1c354bc7-e6dc-47ab-b81f-3dcdcc535d9b"
   },
   "outputs": [
    {
     "data": {
      "text/plain": [
       "<BarContainer object of 1 artists>"
      ]
     },
     "execution_count": 51,
     "metadata": {},
     "output_type": "execute_result"
    },
    {
     "data": {
      "image/png": "[encoded data removed]",
      "text/plain": [
       "<Figure size 360x360 with 1 Axes>"
      ]
     },
     "metadata": {
      "needs_background": "light"
     },
     "output_type": "display_data"
    }
   ],
   "source": [
    "names = ['ANN']\n",
    "values = [98.485]\n",
    "f = plt.figure(figsize=(5,5),num=1)\n",
    "plt.subplot(131)\n",
    "plt.ylim(80,102)\n",
    "plt.bar(names,values)"
   ]
  }
 ],
 "metadata": {
  "colab": {
   "authorship_tag": "ABX9TyP1S40mMurKVvU1qjT7NrtY",
   "include_colab_link": true,
   "mount_file_id": "https://github.com/LNOI/DeepLearning_IDS_ANN/blob/main/DeepLearning_NN_IDS.ipynb",
   "provenance": []
  },
  "kernelspec": {
   "display_name": "Python 3 (ipykernel)",
   "language": "python",
   "name": "python3"
  },
  "language_info": {
   "codemirror_mode": {
    "name": "ipython",
    "version": 3
   },
   "file_extension": ".py",
   "mimetype": "text/x-python",
   "name": "python",
   "nbconvert_exporter": "python",
   "pygments_lexer": "ipython3",
   "version": "3.8.10"
  },
  "vscode": {
   "interpreter": {
    "hash": "275585cdcba9924c9c6e8df50545090134669d632506161f1f4ca47ec00107b7"
   }
  }
 },
 "nbformat": 4,
 "nbformat_minor": 4
}
